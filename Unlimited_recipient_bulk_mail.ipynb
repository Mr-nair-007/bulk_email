{
  "nbformat": 4,
  "nbformat_minor": 0,
  "metadata": {
    "colab": {
      "name": "Unlimited_recipient_bulk_mail.ipynb",
      "provenance": [],
      "collapsed_sections": []
    },
    "kernelspec": {
      "name": "python3",
      "display_name": "Python 3"
    },
    "language_info": {
      "name": "python"
    }
  },
  "cells": [
    {
      "cell_type": "code",
      "execution_count": null,
      "metadata": {
        "id": "4r22r_4TPbhY"
      },
      "outputs": [],
      "source": [
        "import pandas as pd\n",
        "import os\n",
        "from pandas import read_excel\n",
        "!pip install email-to\n",
        "import smtplib, ssl\n",
        "import getpass\n",
        "from email.mime.text import MIMEText"
      ]
    },
    {
      "cell_type": "code",
      "source": [
        "\n",
        "#Taking the input file from user\n",
        "from google.colab import files\n",
        "uploaded_excel = files.upload()\n",
        "\n",
        "#Obtaining name of the selected input file and storing it in variable 'fn'\n",
        "for fn in uploaded_excel.keys():\n",
        "  print('User uploaded file \"{name}\" '.format(name=fn))\n",
        "\n",
        "#reading input excel and storing it in xf, removing file from memory\n",
        "xf = pd.read_excel(fn)\n",
        "os.remove(fn)\n",
        "\n",
        "#The mail id with which mail has to be sent\n",
        "sender_mail = 'xxxxx@gmail.com'\n",
        "\n",
        "#get password for mail from the user\n",
        "password = '..........'\n",
        "\n",
        "#creating SMTP object\n",
        "server = smtplib.SMTP('smtp.gmail.com', 587)\n",
        "#encrypting the email for security\n",
        "context = ssl.create_default_context()\n",
        "server.starttls(context=context)\n",
        "#logging in to server\n",
        "server.login(sender_mail, password)\n"
      ],
      "metadata": {
        "id": "ZVnEHfKePpeD"
      },
      "execution_count": null,
      "outputs": []
    },
    {
      "cell_type": "code",
      "source": [
        "\n",
        "def format_mail():\n",
        "  try:\n",
        "    global msg\n",
        "    msg = '''Hey {},\n",
        " \n",
        "Greetings. I hope you're well. \n",
        "\n",
        "I came across this interesting news article that is closely related to business operations of your company {} \n",
        "and thought I'd share it with you.\n",
        "\n",
        "URL of the article : {}\n",
        "\n",
        "Have a wonderful day!\n",
        "\n",
        "\n",
        "Kind Regards,\n",
        "Rahul Nair\n",
        "Software Engineer, Hexaware Technologies\n",
        "ph: 7977454268\n",
        "LinkedIn profile:- https://linkedin.com/in/rahul-nair-b133b3117/'''.format(name,Company,url)\n",
        "\n",
        "    msg = MIMEText(msg , 'plain')\n",
        "    msg['Subject'] = 'Hi {}, Found an article you might be interested in'.format(name)\n",
        "    msg['From'] = 'Rahul Nair'\n",
        "    print('Loading for {}...'.format(name))\n",
        "  except:\n",
        "    print('Could Not Load for {}'.format(name))\n"
      ],
      "metadata": {
        "id": "2wTIczA9Ppg7"
      },
      "execution_count": null,
      "outputs": []
    },
    {
      "cell_type": "code",
      "source": [
        "#send mail function\n",
        "def send_mail():\n",
        "  try:\n",
        "    server.sendmail(sender_mail, receiver_mail, msg.as_string())\n",
        "    print('Sent to {}'.format(name))\n",
        "  except:\n",
        "    print('Problem while sending to {}'.format(name))\n",
        "\n",
        "for i in range (0,28):\n",
        "  name = xf['Names'][i]\n",
        "  receiver_mail = xf['Email'][i]\n",
        "  Company = xf['Company'][i]\n",
        "  url = xf['Links'][i]\n",
        "  format_mail()\n",
        "  send_mail()"
      ],
      "metadata": {
        "id": "gB0NAhvNPpju"
      },
      "execution_count": null,
      "outputs": []
    }
  ]
}